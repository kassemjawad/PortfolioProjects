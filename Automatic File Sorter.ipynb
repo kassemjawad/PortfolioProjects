{
 "cells": [
  {
   "cell_type": "code",
   "execution_count": 4,
   "id": "052fc6a9",
   "metadata": {},
   "outputs": [],
   "source": [
    "import os, shutil"
   ]
  },
  {
   "cell_type": "code",
   "execution_count": 5,
   "id": "0310ad95",
   "metadata": {},
   "outputs": [],
   "source": [
    "path = r\"C:\\Users\\user\\OneDrive\\Desktop\\python project\\\\\""
   ]
  },
  {
   "cell_type": "code",
   "execution_count": 7,
   "id": "516ca6c3",
   "metadata": {},
   "outputs": [
    {
     "data": {
      "text/plain": [
       "['csv files', 'image files', 'pdf files', 'text files', 'word files']"
      ]
     },
     "execution_count": 7,
     "metadata": {},
     "output_type": "execute_result"
    }
   ],
   "source": [
    "file_name = os.listdir(path)\n",
    "\n",
    "file_name"
   ]
  },
  {
   "cell_type": "code",
   "execution_count": 49,
   "id": "5fb3cb55",
   "metadata": {},
   "outputs": [],
   "source": [
    "folder_names = ['csv files', 'image files', 'text files', 'word files', 'pdf files']\n",
    "\n",
    "\n",
    "for index in range(0,5):\n",
    "    if not os.path.exists(path + folder_names[index]):\n",
    "        os.makedirs(path + folder_names[index])\n",
    "\n",
    "\n",
    "for file in file_name:\n",
    "    if \".csv\" in file and not os.path.exists(path + \"csv files\\\\\" + file):\n",
    "        shutil.move(path + file, path + \"csv files\\\\\" + file)\n",
    "    elif \".txt\" in file and not os.path.exists(path + \"text files\\\\\" + file):\n",
    "        shutil.move(path + file, path + \"text files\\\\\" + file)\n",
    "    elif \".docx\" in file and not os.path.exists(path + \"word files\\\\\" + file):\n",
    "        shutil.move(path + file, path + \"word files\\\\\" + file)\n",
    "    elif \".png\" in file and not os.path.exists(path + \"image files\\\\\" + file):\n",
    "        shutil.move(path + file, path + \"image files\\\\\" + file)\n",
    "    elif \".pdf\" in file and not os.path.exists(path + \"pdf files\\\\\" + file):\n",
    "        shutil.move(path + file, path + \"pdf files\\\\\" + file)"
   ]
  },
  {
   "cell_type": "code",
   "execution_count": null,
   "id": "20fa2871",
   "metadata": {},
   "outputs": [],
   "source": []
  },
  {
   "cell_type": "code",
   "execution_count": null,
   "id": "84ea876a",
   "metadata": {},
   "outputs": [],
   "source": []
  },
  {
   "cell_type": "code",
   "execution_count": null,
   "id": "9953c517",
   "metadata": {},
   "outputs": [],
   "source": []
  },
  {
   "cell_type": "code",
   "execution_count": null,
   "id": "9eea4f3a",
   "metadata": {},
   "outputs": [],
   "source": []
  },
  {
   "cell_type": "code",
   "execution_count": null,
   "id": "dce396e9",
   "metadata": {},
   "outputs": [],
   "source": []
  }
 ],
 "metadata": {
  "kernelspec": {
   "display_name": "Python 3 (ipykernel)",
   "language": "python",
   "name": "python3"
  },
  "language_info": {
   "codemirror_mode": {
    "name": "ipython",
    "version": 3
   },
   "file_extension": ".py",
   "mimetype": "text/x-python",
   "name": "python",
   "nbconvert_exporter": "python",
   "pygments_lexer": "ipython3",
   "version": "3.11.5"
  }
 },
 "nbformat": 4,
 "nbformat_minor": 5
}
