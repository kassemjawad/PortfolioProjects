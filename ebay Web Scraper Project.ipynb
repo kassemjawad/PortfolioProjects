{
 "cells": [
  {
   "cell_type": "code",
   "execution_count": 1,
   "id": "148ef99c",
   "metadata": {},
   "outputs": [],
   "source": [
    "from bs4 import BeautifulSoup\n",
    "import requests\n",
    "import time\n",
    "import datetime"
   ]
  },
  {
   "cell_type": "code",
   "execution_count": 54,
   "id": "90dbf3b9",
   "metadata": {},
   "outputs": [
    {
     "name": "stdout",
     "output_type": "stream",
     "text": [
      "\n",
      "              Real Madrid, FAN ACTIVE-DRY Breathable Sports Raglan T-Shirt\n",
      "             \n",
      "\n",
      "\n",
      "\n",
      "\n",
      "\n",
      "                US $25.99\n",
      "               \n",
      "\n",
      "\n",
      "\n",
      "\n"
     ]
    }
   ],
   "source": [
    "url = \"https://www.ebay.com/itm/126342794959?itmmeta=01HQP6ZWHSXASJY248JKETMFS0&hash=item1d6a9e0ecf:g:QigAAOSwyPJl1m76&itmprp=enc%3AAQAIAAAA4BpT%2F8LiupMg%2BMGBbnZPM59oRjN%2F6XUp5oLIQKUQ3bH9kioezuYoLiO%2FYVfNln5UZABTuXaVPmzdbOJSixTaGFztnL0CutrhL4FkKilVc8KhlbUCI%2FAvNUDtZcU3vGs70Nrx43ln5L6%2BR3W4AA6lZNzXSlmMklYxdfdI0LKoiBJZ%2Froygde8cnc0yVM4Mv24dbHjWzyRppUsbC%2B4MXxIffm5PAu6JfV89j5QA%2FlLARKHFnoPffmBzjc4ZZOHQvpxodhX%2F1%2BytmlAqCmIS2nEgzj4%2Ft8y6K1rCPx9X9J2vuN8%7Ctkp%3ABFBM_sj_xr1j\"\n",
    "\n",
    "page = requests.get(url)\n",
    "\n",
    "soup1 = BeautifulSoup(page.text, \"html\")\n",
    "\n",
    "soup2 = BeautifulSoup(soup1.prettify(), \"html\")\n",
    "\n",
    "title = soup2.find(\"span\", {\"class\":\"ux-textspans ux-textspans--BOLD\"}).text\n",
    "\n",
    "price = soup2.find(\"div\",{\"class\":\"x-price-primary\"}).text\n",
    "\n",
    "print(title)\n",
    "print(price)"
   ]
  },
  {
   "cell_type": "code",
   "execution_count": 56,
   "id": "02623d86",
   "metadata": {},
   "outputs": [
    {
     "name": "stdout",
     "output_type": "stream",
     "text": [
      "Real Madrid, FAN ACTIVE-DRY Breathable Sports Raglan T-Shirt\n",
      "25.99\n"
     ]
    }
   ],
   "source": [
    "title = title.strip()\n",
    "price = price.strip()[4:]\n",
    "\n",
    "print(title)\n",
    "print(price)"
   ]
  },
  {
   "cell_type": "code",
   "execution_count": 63,
   "id": "650e21d6",
   "metadata": {},
   "outputs": [
    {
     "name": "stdout",
     "output_type": "stream",
     "text": [
      "2024-02-28\n"
     ]
    }
   ],
   "source": [
    "today = datetime.date.today()\n",
    "\n",
    "print(today)"
   ]
  },
  {
   "cell_type": "code",
   "execution_count": 64,
   "id": "312c7664",
   "metadata": {},
   "outputs": [],
   "source": [
    "import csv\n",
    "\n",
    "header = [\"Title\", \"Price\", \"Date\"]\n",
    "\n",
    "data = [title, price, today]\n",
    "\n",
    "'''with open(\"EbayWebScraper.csv\", \"w\", newline = \"\", encoding = 'UTF8') as f:\n",
    "    writer = csv.writer(f)\n",
    "    writer.writerow(header)\n",
    "    writer.writerow(data)'''"
   ]
  },
  {
   "cell_type": "code",
   "execution_count": 74,
   "id": "2decdca7",
   "metadata": {},
   "outputs": [
    {
     "data": {
      "text/html": [
       "<div>\n",
       "<style scoped>\n",
       "    .dataframe tbody tr th:only-of-type {\n",
       "        vertical-align: middle;\n",
       "    }\n",
       "\n",
       "    .dataframe tbody tr th {\n",
       "        vertical-align: top;\n",
       "    }\n",
       "\n",
       "    .dataframe thead th {\n",
       "        text-align: right;\n",
       "    }\n",
       "</style>\n",
       "<table border=\"1\" class=\"dataframe\">\n",
       "  <thead>\n",
       "    <tr style=\"text-align: right;\">\n",
       "      <th></th>\n",
       "      <th>Title</th>\n",
       "      <th>Price</th>\n",
       "      <th>Date</th>\n",
       "    </tr>\n",
       "  </thead>\n",
       "  <tbody>\n",
       "    <tr>\n",
       "      <th>0</th>\n",
       "      <td>Real Madrid, FAN ACTIVE-DRY Breathable Sports ...</td>\n",
       "      <td>25.99</td>\n",
       "      <td>2/28/2024</td>\n",
       "    </tr>\n",
       "    <tr>\n",
       "      <th>1</th>\n",
       "      <td>Real Madrid, FAN ACTIVE-DRY Breathable Sports ...</td>\n",
       "      <td>25.99</td>\n",
       "      <td>2024-02-28</td>\n",
       "    </tr>\n",
       "    <tr>\n",
       "      <th>2</th>\n",
       "      <td>Real Madrid, FAN ACTIVE-DRY Breathable Sports ...</td>\n",
       "      <td>25.99</td>\n",
       "      <td>2024-02-28</td>\n",
       "    </tr>\n",
       "    <tr>\n",
       "      <th>3</th>\n",
       "      <td>Real Madrid, FAN ACTIVE-DRY Breathable Sports ...</td>\n",
       "      <td>25.99</td>\n",
       "      <td>2024-02-28</td>\n",
       "    </tr>\n",
       "    <tr>\n",
       "      <th>4</th>\n",
       "      <td>Real Madrid, FAN ACTIVE-DRY Breathable Sports ...</td>\n",
       "      <td>25.99</td>\n",
       "      <td>2024-02-28</td>\n",
       "    </tr>\n",
       "    <tr>\n",
       "      <th>5</th>\n",
       "      <td>Real Madrid, FAN ACTIVE-DRY Breathable Sports ...</td>\n",
       "      <td>25.99</td>\n",
       "      <td>2024-02-28</td>\n",
       "    </tr>\n",
       "  </tbody>\n",
       "</table>\n",
       "</div>"
      ],
      "text/plain": [
       "                                               Title  Price        Date\n",
       "0  Real Madrid, FAN ACTIVE-DRY Breathable Sports ...  25.99   2/28/2024\n",
       "1  Real Madrid, FAN ACTIVE-DRY Breathable Sports ...  25.99  2024-02-28\n",
       "2  Real Madrid, FAN ACTIVE-DRY Breathable Sports ...  25.99  2024-02-28\n",
       "3  Real Madrid, FAN ACTIVE-DRY Breathable Sports ...  25.99  2024-02-28\n",
       "4  Real Madrid, FAN ACTIVE-DRY Breathable Sports ...  25.99  2024-02-28\n",
       "5  Real Madrid, FAN ACTIVE-DRY Breathable Sports ...  25.99  2024-02-28"
      ]
     },
     "execution_count": 74,
     "metadata": {},
     "output_type": "execute_result"
    }
   ],
   "source": [
    "import pandas as pd\n",
    "\n",
    "df = pd.read_csv(r\"C:\\Users\\user\\EbayWebScraper.csv\")\n",
    "\n",
    "df"
   ]
  },
  {
   "cell_type": "code",
   "execution_count": 73,
   "id": "1b3fe4d1",
   "metadata": {},
   "outputs": [],
   "source": [
    "with open(\"EbayWebScraper.csv\", \"a+\", newline = \"\", encoding = 'UTF8') as f:\n",
    "    writer = csv.writer(f)\n",
    "    writer.writerow(data)"
   ]
  },
  {
   "cell_type": "code",
   "execution_count": 75,
   "id": "23cfd3d1",
   "metadata": {},
   "outputs": [],
   "source": [
    "def check_price():\n",
    "    url = \"https://www.ebay.com/itm/126342794959?itmmeta=01HQP6ZWHSXASJY248JKETMFS0&hash=item1d6a9e0ecf:g:QigAAOSwyPJl1m76&itmprp=enc%3AAQAIAAAA4BpT%2F8LiupMg%2BMGBbnZPM59oRjN%2F6XUp5oLIQKUQ3bH9kioezuYoLiO%2FYVfNln5UZABTuXaVPmzdbOJSixTaGFztnL0CutrhL4FkKilVc8KhlbUCI%2FAvNUDtZcU3vGs70Nrx43ln5L6%2BR3W4AA6lZNzXSlmMklYxdfdI0LKoiBJZ%2Froygde8cnc0yVM4Mv24dbHjWzyRppUsbC%2B4MXxIffm5PAu6JfV89j5QA%2FlLARKHFnoPffmBzjc4ZZOHQvpxodhX%2F1%2BytmlAqCmIS2nEgzj4%2Ft8y6K1rCPx9X9J2vuN8%7Ctkp%3ABFBM_sj_xr1j\"\n",
    "\n",
    "    page = requests.get(url)\n",
    "\n",
    "    soup1 = BeautifulSoup(page.text, \"html\")\n",
    "\n",
    "    soup2 = BeautifulSoup(soup1.prettify(), \"html\")\n",
    "\n",
    "    title = soup2.find(\"span\", {\"class\":\"ux-textspans ux-textspans--BOLD\"}).text\n",
    "\n",
    "    price = soup2.find(\"div\",{\"class\":\"x-price-primary\"}).text\n",
    "    \n",
    "    title = title.strip()\n",
    "    price = price.strip()[4:]\n",
    "    \n",
    "    today = datetime.date.today()\n",
    "    \n",
    "    import csv\n",
    "\n",
    "    header = [\"Title\", \"Price\", \"Date\"]\n",
    "\n",
    "    data = [title, price, today]\n",
    "    \n",
    "    with open(\"EbayWebScraper.csv\", \"a+\", newline = \"\", encoding = 'UTF8') as f:\n",
    "        writer = csv.writer(f)\n",
    "        writer.writerow(data)"
   ]
  },
  {
   "cell_type": "code",
   "execution_count": 76,
   "id": "37879621",
   "metadata": {},
   "outputs": [
    {
     "ename": "KeyboardInterrupt",
     "evalue": "",
     "output_type": "error",
     "traceback": [
      "\u001b[1;31m---------------------------------------------------------------------------\u001b[0m",
      "\u001b[1;31mKeyboardInterrupt\u001b[0m                         Traceback (most recent call last)",
      "Cell \u001b[1;32mIn[76], line 3\u001b[0m\n\u001b[0;32m      1\u001b[0m \u001b[38;5;28;01mwhile\u001b[39;00m(\u001b[38;5;28;01mTrue\u001b[39;00m):\n\u001b[0;32m      2\u001b[0m     check_price()\n\u001b[1;32m----> 3\u001b[0m     time\u001b[38;5;241m.\u001b[39msleep(\u001b[38;5;241m5\u001b[39m)\n",
      "\u001b[1;31mKeyboardInterrupt\u001b[0m: "
     ]
    }
   ],
   "source": [
    "while(True):\n",
    "    check_price()\n",
    "    time.sleep(86400)"
   ]
  },
  {
   "cell_type": "code",
   "execution_count": 77,
   "id": "35b6182c",
   "metadata": {},
   "outputs": [
    {
     "data": {
      "text/html": [
       "<div>\n",
       "<style scoped>\n",
       "    .dataframe tbody tr th:only-of-type {\n",
       "        vertical-align: middle;\n",
       "    }\n",
       "\n",
       "    .dataframe tbody tr th {\n",
       "        vertical-align: top;\n",
       "    }\n",
       "\n",
       "    .dataframe thead th {\n",
       "        text-align: right;\n",
       "    }\n",
       "</style>\n",
       "<table border=\"1\" class=\"dataframe\">\n",
       "  <thead>\n",
       "    <tr style=\"text-align: right;\">\n",
       "      <th></th>\n",
       "      <th>Title</th>\n",
       "      <th>Price</th>\n",
       "      <th>Date</th>\n",
       "    </tr>\n",
       "  </thead>\n",
       "  <tbody>\n",
       "    <tr>\n",
       "      <th>0</th>\n",
       "      <td>Real Madrid, FAN ACTIVE-DRY Breathable Sports ...</td>\n",
       "      <td>25.99</td>\n",
       "      <td>2/28/2024</td>\n",
       "    </tr>\n",
       "    <tr>\n",
       "      <th>1</th>\n",
       "      <td>Real Madrid, FAN ACTIVE-DRY Breathable Sports ...</td>\n",
       "      <td>25.99</td>\n",
       "      <td>2024-02-28</td>\n",
       "    </tr>\n",
       "    <tr>\n",
       "      <th>2</th>\n",
       "      <td>Real Madrid, FAN ACTIVE-DRY Breathable Sports ...</td>\n",
       "      <td>25.99</td>\n",
       "      <td>2024-02-28</td>\n",
       "    </tr>\n",
       "    <tr>\n",
       "      <th>3</th>\n",
       "      <td>Real Madrid, FAN ACTIVE-DRY Breathable Sports ...</td>\n",
       "      <td>25.99</td>\n",
       "      <td>2024-02-28</td>\n",
       "    </tr>\n",
       "    <tr>\n",
       "      <th>4</th>\n",
       "      <td>Real Madrid, FAN ACTIVE-DRY Breathable Sports ...</td>\n",
       "      <td>25.99</td>\n",
       "      <td>2024-02-28</td>\n",
       "    </tr>\n",
       "    <tr>\n",
       "      <th>5</th>\n",
       "      <td>Real Madrid, FAN ACTIVE-DRY Breathable Sports ...</td>\n",
       "      <td>25.99</td>\n",
       "      <td>2024-02-28</td>\n",
       "    </tr>\n",
       "    <tr>\n",
       "      <th>6</th>\n",
       "      <td>Real Madrid, FAN ACTIVE-DRY Breathable Sports ...</td>\n",
       "      <td>25.99</td>\n",
       "      <td>2024-02-28</td>\n",
       "    </tr>\n",
       "    <tr>\n",
       "      <th>7</th>\n",
       "      <td>Real Madrid, FAN ACTIVE-DRY Breathable Sports ...</td>\n",
       "      <td>25.99</td>\n",
       "      <td>2024-02-28</td>\n",
       "    </tr>\n",
       "    <tr>\n",
       "      <th>8</th>\n",
       "      <td>Real Madrid, FAN ACTIVE-DRY Breathable Sports ...</td>\n",
       "      <td>25.99</td>\n",
       "      <td>2024-02-28</td>\n",
       "    </tr>\n",
       "    <tr>\n",
       "      <th>9</th>\n",
       "      <td>Real Madrid, FAN ACTIVE-DRY Breathable Sports ...</td>\n",
       "      <td>25.99</td>\n",
       "      <td>2024-02-28</td>\n",
       "    </tr>\n",
       "    <tr>\n",
       "      <th>10</th>\n",
       "      <td>Real Madrid, FAN ACTIVE-DRY Breathable Sports ...</td>\n",
       "      <td>25.99</td>\n",
       "      <td>2024-02-28</td>\n",
       "    </tr>\n",
       "    <tr>\n",
       "      <th>11</th>\n",
       "      <td>Real Madrid, FAN ACTIVE-DRY Breathable Sports ...</td>\n",
       "      <td>25.99</td>\n",
       "      <td>2024-02-28</td>\n",
       "    </tr>\n",
       "    <tr>\n",
       "      <th>12</th>\n",
       "      <td>Real Madrid, FAN ACTIVE-DRY Breathable Sports ...</td>\n",
       "      <td>25.99</td>\n",
       "      <td>2024-02-28</td>\n",
       "    </tr>\n",
       "    <tr>\n",
       "      <th>13</th>\n",
       "      <td>Real Madrid, FAN ACTIVE-DRY Breathable Sports ...</td>\n",
       "      <td>25.99</td>\n",
       "      <td>2024-02-28</td>\n",
       "    </tr>\n",
       "    <tr>\n",
       "      <th>14</th>\n",
       "      <td>Real Madrid, FAN ACTIVE-DRY Breathable Sports ...</td>\n",
       "      <td>25.99</td>\n",
       "      <td>2024-02-28</td>\n",
       "    </tr>\n",
       "  </tbody>\n",
       "</table>\n",
       "</div>"
      ],
      "text/plain": [
       "                                                Title  Price        Date\n",
       "0   Real Madrid, FAN ACTIVE-DRY Breathable Sports ...  25.99   2/28/2024\n",
       "1   Real Madrid, FAN ACTIVE-DRY Breathable Sports ...  25.99  2024-02-28\n",
       "2   Real Madrid, FAN ACTIVE-DRY Breathable Sports ...  25.99  2024-02-28\n",
       "3   Real Madrid, FAN ACTIVE-DRY Breathable Sports ...  25.99  2024-02-28\n",
       "4   Real Madrid, FAN ACTIVE-DRY Breathable Sports ...  25.99  2024-02-28\n",
       "5   Real Madrid, FAN ACTIVE-DRY Breathable Sports ...  25.99  2024-02-28\n",
       "6   Real Madrid, FAN ACTIVE-DRY Breathable Sports ...  25.99  2024-02-28\n",
       "7   Real Madrid, FAN ACTIVE-DRY Breathable Sports ...  25.99  2024-02-28\n",
       "8   Real Madrid, FAN ACTIVE-DRY Breathable Sports ...  25.99  2024-02-28\n",
       "9   Real Madrid, FAN ACTIVE-DRY Breathable Sports ...  25.99  2024-02-28\n",
       "10  Real Madrid, FAN ACTIVE-DRY Breathable Sports ...  25.99  2024-02-28\n",
       "11  Real Madrid, FAN ACTIVE-DRY Breathable Sports ...  25.99  2024-02-28\n",
       "12  Real Madrid, FAN ACTIVE-DRY Breathable Sports ...  25.99  2024-02-28\n",
       "13  Real Madrid, FAN ACTIVE-DRY Breathable Sports ...  25.99  2024-02-28\n",
       "14  Real Madrid, FAN ACTIVE-DRY Breathable Sports ...  25.99  2024-02-28"
      ]
     },
     "execution_count": 77,
     "metadata": {},
     "output_type": "execute_result"
    }
   ],
   "source": [
    "import pandas as pd\n",
    "\n",
    "df = pd.read_csv(r\"C:\\Users\\user\\EbayWebScraper.csv\")\n",
    "\n",
    "df"
   ]
  },
  {
   "cell_type": "code",
   "execution_count": null,
   "id": "7bb53696",
   "metadata": {},
   "outputs": [],
   "source": []
  },
  {
   "cell_type": "code",
   "execution_count": null,
   "id": "79682fa1",
   "metadata": {},
   "outputs": [],
   "source": []
  },
  {
   "cell_type": "code",
   "execution_count": null,
   "id": "6245708d",
   "metadata": {},
   "outputs": [],
   "source": []
  },
  {
   "cell_type": "code",
   "execution_count": null,
   "id": "81f87740",
   "metadata": {},
   "outputs": [],
   "source": []
  },
  {
   "cell_type": "code",
   "execution_count": null,
   "id": "0cd628e7",
   "metadata": {},
   "outputs": [],
   "source": []
  },
  {
   "cell_type": "code",
   "execution_count": null,
   "id": "cd4c4198",
   "metadata": {},
   "outputs": [],
   "source": []
  },
  {
   "cell_type": "code",
   "execution_count": null,
   "id": "82cc6c4d",
   "metadata": {},
   "outputs": [],
   "source": []
  },
  {
   "cell_type": "code",
   "execution_count": null,
   "id": "e51b062d",
   "metadata": {},
   "outputs": [],
   "source": []
  },
  {
   "cell_type": "code",
   "execution_count": null,
   "id": "7df00914",
   "metadata": {},
   "outputs": [],
   "source": []
  },
  {
   "cell_type": "code",
   "execution_count": null,
   "id": "c5e5407a",
   "metadata": {},
   "outputs": [],
   "source": []
  },
  {
   "cell_type": "code",
   "execution_count": null,
   "id": "4725761c",
   "metadata": {},
   "outputs": [],
   "source": []
  }
 ],
 "metadata": {
  "kernelspec": {
   "display_name": "Python 3 (ipykernel)",
   "language": "python",
   "name": "python3"
  },
  "language_info": {
   "codemirror_mode": {
    "name": "ipython",
    "version": 3
   },
   "file_extension": ".py",
   "mimetype": "text/x-python",
   "name": "python",
   "nbconvert_exporter": "python",
   "pygments_lexer": "ipython3",
   "version": "3.11.5"
  }
 },
 "nbformat": 4,
 "nbformat_minor": 5
}
